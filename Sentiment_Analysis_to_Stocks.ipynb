{
  "nbformat": 4,
  "nbformat_minor": 0,
  "metadata": {
    "colab": {
      "provenance": [],
      "authorship_tag": "ABX9TyOfj8dv9mrkBx5sgooj8dz2",
      "include_colab_link": true
    },
    "kernelspec": {
      "name": "python3",
      "display_name": "Python 3"
    },
    "language_info": {
      "name": "python"
    }
  },
  "cells": [
    {
      "cell_type": "markdown",
      "metadata": {
        "id": "view-in-github",
        "colab_type": "text"
      },
      "source": [
        "<a href=\"https://colab.research.google.com/github/megcrunyan/stock-sense/blob/main/Sentiment_Analysis_to_Stocks.ipynb\" target=\"_parent\"><img src=\"https://colab.research.google.com/assets/colab-badge.svg\" alt=\"Open In Colab\"/></a>"
      ]
    },
    {
      "cell_type": "code",
      "source": [
        "import pandas as pd"
      ],
      "metadata": {
        "id": "YAAEhb7HSkT9"
      },
      "execution_count": null,
      "outputs": []
    },
    {
      "cell_type": "code",
      "execution_count": null,
      "metadata": {
        "colab": {
          "base_uri": "https://localhost:8080/"
        },
        "id": "M4VFkDT_PbtK",
        "outputId": "19951033-80cb-4eba-b643-7e35aab72859"
      },
      "outputs": [
        {
          "output_type": "execute_result",
          "data": {
            "text/plain": [
              "[{'label': 'positive', 'score': 0.969622790813446},\n",
              " {'label': 'negative', 'score': 0.8973513245582581}]"
            ]
          },
          "metadata": {},
          "execution_count": 5
        }
      ],
      "source": [
        "from transformers import pipeline\n",
        "sentiment_pipeline = pipeline(model=\"lxyuan/distilbert-base-multilingual-cased-sentiments-student\",)\n",
        "data = [\"I love you\", \"I hate you\"]\n",
        "sentiment_pipeline(data)"
      ]
    },
    {
      "cell_type": "code",
      "source": [
        "from google.colab import drive\n",
        "drive.mount('/content/drive')"
      ],
      "metadata": {
        "colab": {
          "base_uri": "https://localhost:8080/"
        },
        "id": "ddfI-CZkRdmX",
        "outputId": "706bd552-8116-4337-f6e7-68e8861e5a59"
      },
      "execution_count": null,
      "outputs": [
        {
          "output_type": "stream",
          "name": "stdout",
          "text": [
            "Mounted at /content/drive\n"
          ]
        }
      ]
    },
    {
      "cell_type": "code",
      "source": [
        "file_path1 = '/content/drive/MyDrive/CS221 Final Project/stock_tweets.csv'\n",
        "tweet_data = pd.read_csv(file_path1)\n",
        "print(tweet_data.head())"
      ],
      "metadata": {
        "colab": {
          "base_uri": "https://localhost:8080/"
        },
        "id": "-scNuWNgSYT-",
        "outputId": "45d5cbde-2160-44c7-ade9-e428222f72b1"
      },
      "execution_count": null,
      "outputs": [
        {
          "output_type": "stream",
          "name": "stdout",
          "text": [
            "                        Date  \\\n",
            "0  2022-09-29 23:41:16+00:00   \n",
            "1  2022-09-29 23:24:43+00:00   \n",
            "2  2022-09-29 23:18:08+00:00   \n",
            "3  2022-09-29 22:40:07+00:00   \n",
            "4  2022-09-29 22:27:05+00:00   \n",
            "\n",
            "                                               Tweet Stock Name Company Name  \n",
            "0  Mainstream media has done an amazing job at br...       TSLA  Tesla, Inc.  \n",
            "1  Tesla delivery estimates are at around 364k fr...       TSLA  Tesla, Inc.  \n",
            "2  3/ Even if I include 63.0M unvested RSUs as of...       TSLA  Tesla, Inc.  \n",
            "3  @RealDanODowd @WholeMarsBlog @Tesla Hahaha why...       TSLA  Tesla, Inc.  \n",
            "4  @RealDanODowd @Tesla Stop trying to kill kids,...       TSLA  Tesla, Inc.  \n"
          ]
        }
      ]
    },
    {
      "cell_type": "code",
      "source": [
        "tweet_tsla = tweet_data[tweet_data['Stock Name'] == 'TSLA']['Tweet']"
      ],
      "metadata": {
        "id": "01LAPgRNaVCg"
      },
      "execution_count": null,
      "outputs": []
    },
    {
      "cell_type": "code",
      "source": [
        "tweet_tsla.describe()"
      ],
      "metadata": {
        "colab": {
          "base_uri": "https://localhost:8080/"
        },
        "id": "YXv63r6goItm",
        "outputId": "4a0f7f1e-1f06-4ccd-ac13-00a50dc94505"
      },
      "execution_count": null,
      "outputs": [
        {
          "output_type": "execute_result",
          "data": {
            "text/plain": [
              "count                            37422\n",
              "unique                           37277\n",
              "top       $TSLA will triple in 2022 🚀🌕\n",
              "freq                                25\n",
              "Name: Tweet, dtype: object"
            ]
          },
          "metadata": {},
          "execution_count": 21
        }
      ]
    },
    {
      "cell_type": "code",
      "source": [
        "tsla_data = tweet_tsla[:int(len(tweet_tsla)/5)].to_list()"
      ],
      "metadata": {
        "id": "guKu5_LV328R"
      },
      "execution_count": null,
      "outputs": []
    },
    {
      "cell_type": "code",
      "source": [
        "outputs = sentiment_pipeline(tsla_data[0:50])\n"
      ],
      "metadata": {
        "id": "yPCExZIbSwxt"
      },
      "execution_count": null,
      "outputs": []
    },
    {
      "cell_type": "code",
      "source": [
        "outputs"
      ],
      "metadata": {
        "colab": {
          "base_uri": "https://localhost:8080/"
        },
        "id": "pn64R26JoPx3",
        "outputId": "abb8943a-d61e-4f3b-e0e2-006c21c5cceb"
      },
      "execution_count": null,
      "outputs": [
        {
          "output_type": "execute_result",
          "data": {
            "text/plain": [
              "[{'label': 'negative', 'score': 0.5082286596298218},\n",
              " {'label': 'negative', 'score': 0.37889793515205383},\n",
              " {'label': 'positive', 'score': 0.49780288338661194},\n",
              " {'label': 'negative', 'score': 0.7331061959266663},\n",
              " {'label': 'negative', 'score': 0.8351827263832092},\n",
              " {'label': 'positive', 'score': 0.5739237070083618},\n",
              " {'label': 'negative', 'score': 0.8700140118598938},\n",
              " {'label': 'negative', 'score': 0.8312352895736694},\n",
              " {'label': 'positive', 'score': 0.7632328867912292},\n",
              " {'label': 'negative', 'score': 0.8391560912132263},\n",
              " {'label': 'negative', 'score': 0.4189801514148712},\n",
              " {'label': 'positive', 'score': 0.5691474676132202},\n",
              " {'label': 'negative', 'score': 0.7619204521179199},\n",
              " {'label': 'negative', 'score': 0.634535551071167},\n",
              " {'label': 'positive', 'score': 0.6581836342811584},\n",
              " {'label': 'positive', 'score': 0.5251397490501404},\n",
              " {'label': 'negative', 'score': 0.4208962023258209},\n",
              " {'label': 'negative', 'score': 0.3943991959095001},\n",
              " {'label': 'positive', 'score': 0.5207477807998657},\n",
              " {'label': 'positive', 'score': 0.5780596733093262},\n",
              " {'label': 'positive', 'score': 0.47497135400772095},\n",
              " {'label': 'positive', 'score': 0.3998018205165863},\n",
              " {'label': 'negative', 'score': 0.41761451959609985},\n",
              " {'label': 'positive', 'score': 0.5183557868003845},\n",
              " {'label': 'positive', 'score': 0.517059326171875},\n",
              " {'label': 'positive', 'score': 0.4671839773654938},\n",
              " {'label': 'positive', 'score': 0.40527111291885376},\n",
              " {'label': 'negative', 'score': 0.7985302209854126},\n",
              " {'label': 'positive', 'score': 0.7514446377754211},\n",
              " {'label': 'negative', 'score': 0.749602735042572},\n",
              " {'label': 'positive', 'score': 0.4470462203025818},\n",
              " {'label': 'negative', 'score': 0.39578601717948914},\n",
              " {'label': 'positive', 'score': 0.5526822805404663},\n",
              " {'label': 'positive', 'score': 0.43169090151786804},\n",
              " {'label': 'negative', 'score': 0.6851261854171753},\n",
              " {'label': 'negative', 'score': 0.4401632249355316},\n",
              " {'label': 'positive', 'score': 0.5848076343536377},\n",
              " {'label': 'positive', 'score': 0.6528854370117188},\n",
              " {'label': 'positive', 'score': 0.7651269435882568},\n",
              " {'label': 'negative', 'score': 0.4341042637825012},\n",
              " {'label': 'positive', 'score': 0.7563088536262512},\n",
              " {'label': 'negative', 'score': 0.5486562848091125},\n",
              " {'label': 'positive', 'score': 0.4004087746143341},\n",
              " {'label': 'positive', 'score': 0.5112641453742981},\n",
              " {'label': 'positive', 'score': 0.7232115268707275},\n",
              " {'label': 'positive', 'score': 0.5765562057495117},\n",
              " {'label': 'negative', 'score': 0.4065077304840088},\n",
              " {'label': 'positive', 'score': 0.4580576717853546},\n",
              " {'label': 'negative', 'score': 0.6220951676368713},\n",
              " {'label': 'negative', 'score': 0.447968065738678}]"
            ]
          },
          "metadata": {},
          "execution_count": 40
        }
      ]
    },
    {
      "cell_type": "code",
      "source": [
        "i = 0\n",
        "for tweet in enumerate(tsla_data[0:50]):\n",
        "  print(outputs[i], tweet,'\\n')\n",
        "  i += 1"
      ],
      "metadata": {
        "colab": {
          "base_uri": "https://localhost:8080/"
        },
        "id": "s09mFk9d4UgJ",
        "outputId": "149087f5-6776-4f3d-ade6-b0bfe60d825a"
      },
      "execution_count": null,
      "outputs": [
        {
          "output_type": "stream",
          "name": "stdout",
          "text": [
            "{'label': 'negative', 'score': 0.5082286596298218} (0, 'Mainstream media has done an amazing job at brainwashing people. Today at work, we were asked what companies we believe in &amp; I said @Tesla because they make the safest cars &amp; EVERYONE disagreed with me because they heard“they catch on fire &amp; the batteries cost 20k to replace”') \n",
            "\n",
            "{'label': 'negative', 'score': 0.37889793515205383} (1, 'Tesla delivery estimates are at around 364k from the analysts. $tsla') \n",
            "\n",
            "{'label': 'positive', 'score': 0.49780288338661194} (2, '3/ Even if I include 63.0M unvested RSUs as of 6/30, additional equity needed for the RSUs is 63.0M x $54.20 = $3.4B. If the deal closed tomorrow at $54.20, Elon would need $2.0B for existing shares plus $3.4B for RSUs, so $5.4B new equity. $twtr $tsla') \n",
            "\n",
            "{'label': 'negative', 'score': 0.7331061959266663} (3, '@RealDanODowd @WholeMarsBlog @Tesla Hahaha why are you still trying to stop Tesla FSD bro! Get your shit together and make something better? Thats how companies work, they competed. Crying big old ass fart clown!') \n",
            "\n",
            "{'label': 'negative', 'score': 0.8351827263832092} (4, '@RealDanODowd @Tesla Stop trying to kill kids, you sad deranged old man') \n",
            "\n",
            "{'label': 'positive', 'score': 0.5739237070083618} (5, '@RealDanODowd @Tesla This is you https://t.co/3Ml1XawSEb') \n",
            "\n",
            "{'label': 'negative', 'score': 0.8700140118598938} (6, 'For years @WholeMarsBlog viciously silenced @Tesla critics. Failing to silence me, he desperately lashes out  with childish insults about me, my company, my products - and even my 💩! His fear and impotence spurs me on to ensure that everyone understands Full Self-Driving is💩. https://t.co/lw84VzwW5U') \n",
            "\n",
            "{'label': 'negative', 'score': 0.8312352895736694} (7, \"$NIO just because I'm down money doesn't mean this is a bad investment. The whole market, everything sucks right now. 2-5 years from now, I'm confident it will pay off. Long the best $AAPL $AMZN $TSLA $GOOGL $NIO\") \n",
            "\n",
            "{'label': 'positive', 'score': 0.7632328867912292} (8, '50 likes for some $SPY $TSLA charts to study!\\n\\n❤️') \n",
            "\n",
            "{'label': 'negative', 'score': 0.8391560912132263} (9, '@MrJames__321 @KellyRoofing @TeslaSolar @elonmusk @Tesla The powerwalls themselves are waterproof, but what could be bad is any wiring in the house that could be damaged.') \n",
            "\n",
            "{'label': 'negative', 'score': 0.4189801514148712} (10, 'Tomorrow, Tesla, $TSLA, AI day 2 is ongoing.\\n\\nUnusual Whales is bringing some Tesla experts to discuss what to expect and $TSLA generally.\\n\\nJoin below to prepare before the event at 6:55PM EST:\\n\\nhttps://t.co/hObh7OdVs5') \n",
            "\n",
            "{'label': 'positive', 'score': 0.5691474676132202} (11, 'Powerwall FTW! https://t.co/GWAaXXCrYv') \n",
            "\n",
            "{'label': 'negative', 'score': 0.7619204521179199} (12, '$TSLAQ: Tesla’s dead in Europe! Everyone else is passing $TSLA in the EU now in EV unit sales! If you don’t believe us, go to eu-evs and see for yourself!\\n\\nMe: &lt;goes to eu-evs&gt; 🧐 https://t.co/GAyiZAKF56') \n",
            "\n",
            "{'label': 'negative', 'score': 0.634535551071167} (13, 'The irony is so thick you can cut it with a knife. @Tesla https://t.co/8CihPdpns7') \n",
            "\n",
            "{'label': 'positive', 'score': 0.6581836342811584} (14, 'Tesla AI day in 24 hours. Are you ready? $TSLA rocks big time. https://t.co/GxtdO2utB4') \n",
            "\n",
            "{'label': 'positive', 'score': 0.5251397490501404} (15, 'Picked up some $TSLA shares at $269 https://t.co/4UQVchSs2R') \n",
            "\n",
            "{'label': 'negative', 'score': 0.4208962023258209} (16, '2/ Even if @elonmusk loses the $TWTR trial (would more likely settle at $51-$52/share), Elon would only have to raise $2-$3B more from $TSLA sales (raised $15B equity) to fund the equity needed to complete the deal, assuming the $7B 3P equity and $13B debt financing still intact. https://t.co/PqtHF2sSmJ') \n",
            "\n",
            "{'label': 'negative', 'score': 0.3943991959095001} (17, 'Everyone should keep a long term perspective. It’s always darkest before the dawn. With 2026 EPS of $20.80, at 40x P/E (2x PEG), $TSLA worth $832 by 2026. Discounting this back at 13.6% (4.0% 10yrTY, 6% ERP, 1.6x beta), $TSLA value $550. That’s 100% upside over 6-12 mos. https://t.co/oPn2JMXBrh') \n",
            "\n",
            "{'label': 'positive', 'score': 0.5207477807998657} (18, '$TSLA Cybertruck can act as a boat according to Elon. https://t.co/aahIkZwUCT') \n",
            "\n",
            "{'label': 'positive', 'score': 0.5780596733093262} (19, '#GigaBerlinBrandenburg\\n@tesla destination chargers are ready to charge all electric vehicles, not just Tesla, for all employees. https://t.co/EfecEy3CQu') \n",
            "\n",
            "{'label': 'positive', 'score': 0.47497135400772095} (20, 'According to California rules that are now also being adopted by New York state, 69% of all new cars sold will have to be EVs by 2030. @elonmusk $TSLA') \n",
            "\n",
            "{'label': 'positive', 'score': 0.3998018205165863} (21, \"“New York state plans to adopt California's rules approved in August that would require all new vehicles sold in the state by 2035 to be either electric or plug-in electric hybrids, Governor Kathy Hochul said Thursday” — Reuters $TSLA\") \n",
            "\n",
            "{'label': 'negative', 'score': 0.41761451959609985} (22, '@KellyRoofing @TeslaSolar @elonmusk @Tesla But $TSLA is just a car company and the auto analysts are the only ones that should value it….. 🙄') \n",
            "\n",
            "{'label': 'positive', 'score': 0.5183557868003845} (23, 'Tomorrow, Tesla, $TSLA, AI day 2 is ongoing.\\n\\nUnusual Whales is bringing some Tesla experts to discuss, including:\\n\\n@GerberKawasaki \\n@WholeMarsBlog \\n@jasondebolt \\n@teslaherbert \\n@WR4NYGov \\n\\n&amp; more!\\n\\nJoin below to prepare before the event at 6:55PM EST:\\nhttps://t.co/D2PPPVps5Q') \n",
            "\n",
            "{'label': 'positive', 'score': 0.517059326171875} (24, \"Time for me to wrap up things for next 10 days and walk away from the markets and enjoy some time off again. I'm holding all my shares as it makes no sense to panic sell this bloodbath today. I'll check in when gone but everyone have a great week. AI and deliveries on deck. $TSLA https://t.co/tTXJ02cssL\") \n",
            "\n",
            "{'label': 'positive', 'score': 0.4671839773654938} (25, \"Today they're shooting the generals.\\n$AAPL $TSLA https://t.co/Jymw8fUpyq\") \n",
            "\n",
            "{'label': 'positive', 'score': 0.40527111291885376} (26, 'I think i’ll buy some $TSLA today before the close') \n",
            "\n",
            "{'label': 'negative', 'score': 0.7985302209854126} (27, 'Fuck what you heard, it’s Tesla AI day (part 2) tomorrow, where the world gets a glimpse at Tesla’s most important product ever made. $TSLA') \n",
            "\n",
            "{'label': 'positive', 'score': 0.7514446377754211} (28, 'This makes my day! #Tesla #hawaii $TSLA https://t.co/OCLH7b3H39') \n",
            "\n",
            "{'label': 'negative', 'score': 0.749602735042572} (29, 'Even after being down 7% today the PE is 103x. Totally insane with growth having plateaued and a 10% haircut to ASP from FX. Nobody should be surprised when $TSLAQ is a fraction of itself in 6 months! $TSLA $TSLAQ') \n",
            "\n",
            "{'label': 'positive', 'score': 0.4470462203025818} (30, 'Tesla $TSLA Shares Could Rise in Coming Weeks Due to 3 Factors, Says Goldman Sachs\\n\\nhttps://t.co/xl50r6gjeY') \n",
            "\n",
            "{'label': 'negative', 'score': 0.39578601717948914} (31, \"Meanwhile things continue to go well at Tesla. Wouldn't know it from the stock price however... $TSLA #AIday2\") \n",
            "\n",
            "{'label': 'positive', 'score': 0.5526822805404663} (32, 'This ugly mean bear market is working its way through. Creating huge opportunities for investors who can see past this rate hike cycle. Which should be over soon. #tesla $TSLA') \n",
            "\n",
            "{'label': 'positive', 'score': 0.43169090151786804} (33, '$tsla just retested the $798 pre-split level. Screaming buy now. https://t.co/0TPBm60MyC') \n",
            "\n",
            "{'label': 'negative', 'score': 0.6851261854171753} (34, 'No way to sugarcoat $TSLA -6.9% today vs NDX -3.2%. Mainly due to Fed officials hammering home the message that int rates still going higher. Instit’ns don’t expect much from AI Day 2, worry about 3Q China deliveries, and realize $TWTR v Musk proceeding not going well for Elon. https://t.co/UmkfEln5xY') \n",
            "\n",
            "{'label': 'negative', 'score': 0.4401632249355316} (35, 'Friendly reminder to the $TSLA holders: As the value of $TSLA goes down, the number of shares Elon will have to sell in case he has to buy $TWTR goes up. https://t.co/De6coP8b0I') \n",
            "\n",
            "{'label': 'positive', 'score': 0.5848076343536377} (36, '$TSLA along a few others the only interesting plays in a pretty choppy week--At 287, during a big green day, we said the bounce was corrective looking🤝 -7% since--As this and $AAPL catch up with the rest of tech they can still offer some good R:R plays https://t.co/tFEQyY1312 https://t.co/CU2ESycCX1') \n",
            "\n",
            "{'label': 'positive', 'score': 0.6528854370117188} (37, '@vap1337 @Tesla All I see is a free Tesla') \n",
            "\n",
            "{'label': 'positive', 'score': 0.7651269435882568} (38, '@TeslaSolar roof stood up to #HurricaneIan with 155mph winds and a 10’ storm surge! This Powerwall was underwater for hours and is still working perfectly.\\n\\n@elonmusk @Tesla #powerwall #solarroof https://t.co/V7443wwGwd') \n",
            "\n",
            "{'label': 'negative', 'score': 0.4341042637825012} (39, 'Rent checks coming in 2 days. \\n\\nI’ll be plowing it into $TSLA.') \n",
            "\n",
            "{'label': 'positive', 'score': 0.7563088536262512} (40, '@TeslaSolar roof stood up to #HurricaneIan with 155mph winds and a 10’ storm surge! This Powerwall was underwater for hours and is still working perfectly.\\n\\n@elonmusk @Tesla #powerwall #solarroof https://t.co/fVHmChyXUm') \n",
            "\n",
            "{'label': 'negative', 'score': 0.5486562848091125} (41, 'Investing in the stock market was and never will be easy bc many throw in the white towel along the way, bc they panic. \\n\\nDon’t panic. \\n\\n$TSLA') \n",
            "\n",
            "{'label': 'positive', 'score': 0.4004087746143341} (42, 'Being a $TSLA investor since 2017 has made me comfortably numb') \n",
            "\n",
            "{'label': 'positive', 'score': 0.5112641453742981} (43, '$TSLA now down $60 Pre-split in just a few hours today. Crazy stuff.') \n",
            "\n",
            "{'label': 'positive', 'score': 0.7232115268707275} (44, 'Thank you @Tesla for delivering a car to the wrong address (my house), blocking my driveway for hours and not allowing me to pickup my kids from school on such a hot day. On top of that, all your driver had to say was \"call Tesla and tell them, I\\'m just a driver\". https://t.co/QqMXoAT7SJ') \n",
            "\n",
            "{'label': 'positive', 'score': 0.5765562057495117} (45, '@klwtts @Tesla @elonmusk Hey @elonmusk, Tesla should honor Ryan’s order. They cancelled on him due to financing but he should be allowed to complete the order at the agreed upon price if he can secure his own financing. \\n\\nThis guy has bought many Teslas from you, he should be getting VIP treatment.') \n",
            "\n",
            "{'label': 'negative', 'score': 0.4065077304840088} (46, 'How do EVs charge after a natural disaster? @tesla @ElectrifyAm @klwtts @DBurkland https://t.co/J1TTy8sAzQ') \n",
            "\n",
            "{'label': 'positive', 'score': 0.4580576717853546} (47, \"(Reuters) - New York state plans to adopt California's rules approved in August that would require all new vehicles sold in the state by 2035 to be either electric or plug-in electric hybrids.\\n\\n$TSLA $GM $F\") \n",
            "\n",
            "{'label': 'negative', 'score': 0.6220951676368713} (48, 'For those who want to read the anti-Musk view about how the Twitter vs Musk case is going.  $TWTR $TSLA https://t.co/maaTCFBL6y') \n",
            "\n",
            "{'label': 'negative', 'score': 0.447968065738678} (49, 'This thing is never coming to market. $TSLA https://t.co/dpcwpWUNHi') \n",
            "\n"
          ]
        }
      ]
    },
    {
      "cell_type": "code",
      "source": [],
      "metadata": {
        "id": "k4a0BsoZ4gx5"
      },
      "execution_count": null,
      "outputs": []
    }
  ]
}